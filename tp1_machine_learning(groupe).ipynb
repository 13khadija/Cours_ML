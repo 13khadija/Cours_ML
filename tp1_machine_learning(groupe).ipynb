{
 "cells": [
  {
   "cell_type": "code",
   "execution_count": 38,
   "id": "dc0a33ba",
   "metadata": {},
   "outputs": [
    {
     "name": "stdout",
     "output_type": "stream",
     "text": [
      "0     5\n",
      "1     6\n",
      "2     2\n",
      "3     9\n",
      "4    12\n",
      "dtype: int64\n",
      "0     5\n",
      "1     6\n",
      "2     2\n",
      "3     9\n",
      "4    12\n",
      "dtype: int64\n"
     ]
    }
   ],
   "source": [
    "import pandas\n",
    "mySerie1 = pandas.Series([5, 6, 2, 9, 12])\n",
    "print(mySerie1) \n",
    "myList=([5, 6, 2, 9, 12])\n",
    "mySerie2 = pandas.Series(myList) \n",
    "print(mySerie2) \n",
    "\n"
   ]
  },
  {
   "cell_type": "code",
   "execution_count": 5,
   "id": "ce7f92ca",
   "metadata": {},
   "outputs": [
    {
     "name": "stdout",
     "output_type": "stream",
     "text": [
      "Cochise County        12\n",
      "Pima County          342\n",
      "Santa Cruz County     13\n",
      "Maricopa County       42\n",
      "Yuma County           52\n",
      "dtype: int64\n"
     ]
    }
   ],
   "source": [
    "myDico = {'Cochise County': 12, 'Pima County': 342, 'Santa Cruz County': 13, 'Maricopa County': 42, 'Yuma County' : 52}\n",
    "#On peut définir une série à partir de ce dictionnaire comme suit:\n",
    "mySerie = pandas.Series(myDico)\n",
    "print(mySerie)"
   ]
  },
  {
   "cell_type": "code",
   "execution_count": 6,
   "id": "f66b4fd7",
   "metadata": {},
   "outputs": [
    {
     "name": "stdout",
     "output_type": "stream",
     "text": [
      "Cochise County        5\n",
      "Pima County           6\n",
      "Santa Cruz County     2\n",
      "Maricopa County       9\n",
      "Yuma County          12\n",
      "dtype: int64\n"
     ]
    }
   ],
   "source": [
    "mySerie = pandas.Series([5, 6, 2, 9, 12],index=['Cochise County', \n",
    "'Pima County', 'Santa Cruz County', 'Maricopa County', 'Yuma County'])\n",
    "print(mySerie) "
   ]
  },
  {
   "cell_type": "code",
   "execution_count": 7,
   "id": "dd584958",
   "metadata": {},
   "outputs": [
    {
     "name": "stdout",
     "output_type": "stream",
     "text": [
      "Cochise County        5\n",
      "Pima County           6\n",
      "Santa Cruz County     2\n",
      "Maricopa County       9\n",
      "Yuma County          12\n",
      "dtype: int64\n"
     ]
    }
   ],
   "source": [
    "myList=[5, 6, 2, 9, 12] # définition de la liste des valeurs\n",
    "myIndices=['Cochise County', 'Pima County', 'Santa Cruz County', \n",
    "'Maricopa County', 'Yuma County'] # définition de la liste des indices\n",
    "mySerie = pandas.Series(myList, myIndices) # définition de la série\n",
    "print(mySerie)\n"
   ]
  },
  {
   "cell_type": "code",
   "execution_count": 9,
   "id": "b64c989e",
   "metadata": {},
   "outputs": [
    {
     "name": "stdout",
     "output_type": "stream",
     "text": [
      "5\n",
      "5\n"
     ]
    }
   ],
   "source": [
    "print(mySerie[0]) # Selection du premier élément (méthode classique)\n",
    "print(mySerie[\"Cochise County\"]) # Selection du premier élément \n",
    "#(sélection par l'index)\n"
   ]
  },
  {
   "cell_type": "code",
   "execution_count": null,
   "id": "9a3c97fa",
   "metadata": {},
   "outputs": [],
   "source": []
  },
  {
   "cell_type": "code",
   "execution_count": 13,
   "id": "02c76965",
   "metadata": {},
   "outputs": [
    {
     "name": "stdout",
     "output_type": "stream",
     "text": [
      "  first_name last_name  age  preTestScore  postTestScore\n",
      "0      Jason    Miller   42             4             25\n",
      "1      Molly  Jacobson   52            24             94\n",
      "2       Tina       Ali   36            31             57\n",
      "3       Jake    Milner   24             2             62\n",
      "4        Amy     Cooze   73             3             70\n"
     ]
    }
   ],
   "source": [
    "dico ={'first_name': ['Jason', 'Molly', 'Tina', 'Jake', 'Amy'],\n",
    " 'last_name': ['Miller', 'Jacobson', 'Ali', 'Milner', 'Cooze'],\n",
    " 'age': [42, 52, 36, 24, 73],\n",
    " 'preTestScore': [4, 24, 31, 2, 3],\n",
    " 'postTestScore': [25, 94, 57, 62, 70]}\n",
    "#On crée le dataframe comme suit: \n",
    "mydata = pandas.DataFrame(dico, columns = ['first_name', 'last_name', \n",
    "'age', 'preTestScore', 'postTestScore'])#création de dataFrame à partir du dictionnaire avec commme colonne les clEs du dictionnaire(ici dico)\n",
    "print(mydata)\n"
   ]
  },
  {
   "cell_type": "code",
   "execution_count": 14,
   "id": "c111801b",
   "metadata": {},
   "outputs": [
    {
     "data": {
      "text/html": [
       "<div>\n",
       "<style scoped>\n",
       "    .dataframe tbody tr th:only-of-type {\n",
       "        vertical-align: middle;\n",
       "    }\n",
       "\n",
       "    .dataframe tbody tr th {\n",
       "        vertical-align: top;\n",
       "    }\n",
       "\n",
       "    .dataframe thead th {\n",
       "        text-align: right;\n",
       "    }\n",
       "</style>\n",
       "<table border=\"1\" class=\"dataframe\">\n",
       "  <thead>\n",
       "    <tr style=\"text-align: right;\">\n",
       "      <th></th>\n",
       "      <th>id_var</th>\n",
       "      <th>myvar1</th>\n",
       "      <th>myvar2</th>\n",
       "    </tr>\n",
       "  </thead>\n",
       "  <tbody>\n",
       "  </tbody>\n",
       "</table>\n",
       "</div>"
      ],
      "text/plain": [
       "Empty DataFrame\n",
       "Columns: [id_var, myvar1,  myvar2]\n",
       "Index: []"
      ]
     },
     "execution_count": 14,
     "metadata": {},
     "output_type": "execute_result"
    }
   ],
   "source": [
    "mydata = pandas.DataFrame(index=range(0), columns = ['id_var', 'myvar1', ' myvar2']) \n",
    "mydata"
   ]
  },
  {
   "cell_type": "code",
   "execution_count": 19,
   "id": "bc07c8fb",
   "metadata": {},
   "outputs": [
    {
     "data": {
      "text/html": [
       "<div>\n",
       "<style scoped>\n",
       "    .dataframe tbody tr th:only-of-type {\n",
       "        vertical-align: middle;\n",
       "    }\n",
       "\n",
       "    .dataframe tbody tr th {\n",
       "        vertical-align: top;\n",
       "    }\n",
       "\n",
       "    .dataframe thead th {\n",
       "        text-align: right;\n",
       "    }\n",
       "</style>\n",
       "<table border=\"1\" class=\"dataframe\">\n",
       "  <thead>\n",
       "    <tr style=\"text-align: right;\">\n",
       "      <th></th>\n",
       "      <th>subject_id</th>\n",
       "      <th>first_name</th>\n",
       "      <th>last_name</th>\n",
       "    </tr>\n",
       "  </thead>\n",
       "  <tbody>\n",
       "    <tr>\n",
       "      <th>0</th>\n",
       "      <td>1</td>\n",
       "      <td>Alex</td>\n",
       "      <td>Anderson</td>\n",
       "    </tr>\n",
       "    <tr>\n",
       "      <th>1</th>\n",
       "      <td>2</td>\n",
       "      <td>Amy</td>\n",
       "      <td>Ackerman</td>\n",
       "    </tr>\n",
       "    <tr>\n",
       "      <th>2</th>\n",
       "      <td>3</td>\n",
       "      <td>Allen</td>\n",
       "      <td>Ali</td>\n",
       "    </tr>\n",
       "    <tr>\n",
       "      <th>3</th>\n",
       "      <td>4</td>\n",
       "      <td>Alice</td>\n",
       "      <td>Aoni</td>\n",
       "    </tr>\n",
       "    <tr>\n",
       "      <th>4</th>\n",
       "      <td>5</td>\n",
       "      <td>Ayoung</td>\n",
       "      <td>Atiches</td>\n",
       "    </tr>\n",
       "  </tbody>\n",
       "</table>\n",
       "</div>"
      ],
      "text/plain": [
       "  subject_id first_name last_name\n",
       "0          1       Alex  Anderson\n",
       "1          2        Amy  Ackerman\n",
       "2          3      Allen       Ali\n",
       "3          4      Alice      Aoni\n",
       "4          5     Ayoung   Atiches"
      ]
     },
     "execution_count": 19,
     "metadata": {},
     "output_type": "execute_result"
    }
   ],
   "source": [
    "#data1\n",
    "raw_data = {\n",
    " 'subject_id': ['1', '2', '3', '4', '5'],\n",
    " 'first_name': ['Alex', 'Amy', 'Allen', 'Alice', 'Ayoung'], \n",
    " 'last_name': ['Anderson', 'Ackerman', 'Ali', 'Aoni', \n",
    "'Atiches']}\n",
    "df_a = pandas.DataFrame(raw_data, columns = ['subject_id', \n",
    "'first_name', 'last_name'])\n",
    "df_a"
   ]
  },
  {
   "cell_type": "code",
   "execution_count": 20,
   "id": "87593e03",
   "metadata": {},
   "outputs": [
    {
     "data": {
      "text/html": [
       "<div>\n",
       "<style scoped>\n",
       "    .dataframe tbody tr th:only-of-type {\n",
       "        vertical-align: middle;\n",
       "    }\n",
       "\n",
       "    .dataframe tbody tr th {\n",
       "        vertical-align: top;\n",
       "    }\n",
       "\n",
       "    .dataframe thead th {\n",
       "        text-align: right;\n",
       "    }\n",
       "</style>\n",
       "<table border=\"1\" class=\"dataframe\">\n",
       "  <thead>\n",
       "    <tr style=\"text-align: right;\">\n",
       "      <th></th>\n",
       "      <th>subject_id</th>\n",
       "      <th>first_name</th>\n",
       "      <th>last_name</th>\n",
       "    </tr>\n",
       "  </thead>\n",
       "  <tbody>\n",
       "    <tr>\n",
       "      <th>0</th>\n",
       "      <td>4</td>\n",
       "      <td>Billy</td>\n",
       "      <td>Bonder</td>\n",
       "    </tr>\n",
       "    <tr>\n",
       "      <th>1</th>\n",
       "      <td>5</td>\n",
       "      <td>Brian</td>\n",
       "      <td>Black</td>\n",
       "    </tr>\n",
       "    <tr>\n",
       "      <th>2</th>\n",
       "      <td>6</td>\n",
       "      <td>Bran</td>\n",
       "      <td>Balwner</td>\n",
       "    </tr>\n",
       "    <tr>\n",
       "      <th>3</th>\n",
       "      <td>7</td>\n",
       "      <td>Bryce</td>\n",
       "      <td>Brice</td>\n",
       "    </tr>\n",
       "    <tr>\n",
       "      <th>4</th>\n",
       "      <td>8</td>\n",
       "      <td>Betty</td>\n",
       "      <td>Btisan</td>\n",
       "    </tr>\n",
       "  </tbody>\n",
       "</table>\n",
       "</div>"
      ],
      "text/plain": [
       "  subject_id first_name last_name\n",
       "0          4      Billy    Bonder\n",
       "1          5      Brian     Black\n",
       "2          6       Bran   Balwner\n",
       "3          7      Bryce     Brice\n",
       "4          8      Betty    Btisan"
      ]
     },
     "execution_count": 20,
     "metadata": {},
     "output_type": "execute_result"
    }
   ],
   "source": [
    "#Data2\n",
    "raw_data = {\n",
    " 'subject_id': ['4', '5', '6', '7', '8'],\n",
    " 'first_name': ['Billy', 'Brian', 'Bran', 'Bryce', 'Betty'], \n",
    " 'last_name': ['Bonder', 'Black', 'Balwner', 'Brice', \n",
    "'Btisan']}\n",
    "df_b = pandas.DataFrame(raw_data, columns = ['subject_id', \n",
    "'first_name', 'last_name'])\n",
    "df_b"
   ]
  },
  {
   "cell_type": "code",
   "execution_count": 18,
   "id": "d3689d24",
   "metadata": {},
   "outputs": [],
   "source": [
    "\n",
    "\n",
    "# Data3\n",
    "raw_data = {\n",
    " 'subject_id': ['1', '2', '3', '4', '5', '7', '8', '9', '10', \n",
    "'11'],\n",
    " 'test_id': [51, 15, 15, 61, 16, 14, 15, 1, 61, 16]}\n",
    "df_n = pandas.DataFrame(raw_data, columns = ['subject_id','test_id'])\n",
    "\n"
   ]
  },
  {
   "cell_type": "code",
   "execution_count": 21,
   "id": "5af69157",
   "metadata": {},
   "outputs": [
    {
     "name": "stdout",
     "output_type": "stream",
     "text": [
      "  subject_id first_name last_name\n",
      "0          1       Alex  Anderson\n",
      "1          2        Amy  Ackerman\n",
      "2          3      Allen       Ali\n",
      "3          4      Alice      Aoni\n",
      "4          5     Ayoung   Atiches\n",
      "0          4      Billy    Bonder\n",
      "1          5      Brian     Black\n",
      "2          6       Bran   Balwner\n",
      "3          7      Bryce     Brice\n",
      "4          8      Betty    Btisan\n"
     ]
    }
   ],
   "source": [
    "df_new = pandas.concat([df_a, df_b])\n",
    "print(df_new)\n"
   ]
  },
  {
   "cell_type": "code",
   "execution_count": 42,
   "id": "c02c0dde",
   "metadata": {},
   "outputs": [
    {
     "data": {
      "text/html": [
       "<div>\n",
       "<style scoped>\n",
       "    .dataframe tbody tr th:only-of-type {\n",
       "        vertical-align: middle;\n",
       "    }\n",
       "\n",
       "    .dataframe tbody tr th {\n",
       "        vertical-align: top;\n",
       "    }\n",
       "\n",
       "    .dataframe thead th {\n",
       "        text-align: right;\n",
       "    }\n",
       "</style>\n",
       "<table border=\"1\" class=\"dataframe\">\n",
       "  <thead>\n",
       "    <tr style=\"text-align: right;\">\n",
       "      <th></th>\n",
       "      <th>first_name</th>\n",
       "      <th>last_name</th>\n",
       "      <th>first_name</th>\n",
       "      <th>last_name</th>\n",
       "    </tr>\n",
       "    <tr>\n",
       "      <th>subject_id</th>\n",
       "      <th></th>\n",
       "      <th></th>\n",
       "      <th></th>\n",
       "      <th></th>\n",
       "    </tr>\n",
       "  </thead>\n",
       "  <tbody>\n",
       "    <tr>\n",
       "      <th>(1, 4)</th>\n",
       "      <td>Alex</td>\n",
       "      <td>Anderson</td>\n",
       "      <td>Billy</td>\n",
       "      <td>Bonder</td>\n",
       "    </tr>\n",
       "    <tr>\n",
       "      <th>(2, 5)</th>\n",
       "      <td>Amy</td>\n",
       "      <td>Ackerman</td>\n",
       "      <td>Brian</td>\n",
       "      <td>Black</td>\n",
       "    </tr>\n",
       "    <tr>\n",
       "      <th>(3, 6)</th>\n",
       "      <td>Allen</td>\n",
       "      <td>Ali</td>\n",
       "      <td>Bran</td>\n",
       "      <td>Balwner</td>\n",
       "    </tr>\n",
       "    <tr>\n",
       "      <th>(4, 7)</th>\n",
       "      <td>Alice</td>\n",
       "      <td>Aoni</td>\n",
       "      <td>Bryce</td>\n",
       "      <td>Brice</td>\n",
       "    </tr>\n",
       "    <tr>\n",
       "      <th>(5, 8)</th>\n",
       "      <td>Ayoung</td>\n",
       "      <td>Atiches</td>\n",
       "      <td>Betty</td>\n",
       "      <td>Btisan</td>\n",
       "    </tr>\n",
       "  </tbody>\n",
       "</table>\n",
       "</div>"
      ],
      "text/plain": [
       "           first_name last_name first_name last_name\n",
       "subject_id                                          \n",
       "(1, 4)           Alex  Anderson      Billy    Bonder\n",
       "(2, 5)            Amy  Ackerman      Brian     Black\n",
       "(3, 6)          Allen       Ali       Bran   Balwner\n",
       "(4, 7)          Alice      Aoni      Bryce     Brice\n",
       "(5, 8)         Ayoung   Atiches      Betty    Btisan"
      ]
     },
     "execution_count": 42,
     "metadata": {},
     "output_type": "execute_result"
    }
   ],
   "source": [
    "# si on voudrai travaller en regroupant tous les dataFrames,puisque subject_ide est unique pour chaque observation,\n",
    "#on peut simplement suprimer les index en le remplaçant par subject_id\n",
    "#new_df=df_new.set_index(\"subject_id\")\n",
    "#new_df"
   ]
  },
  {
   "cell_type": "code",
   "execution_count": 44,
   "id": "a43318c1",
   "metadata": {},
   "outputs": [
    {
     "data": {
      "text/html": [
       "<div>\n",
       "<style scoped>\n",
       "    .dataframe tbody tr th:only-of-type {\n",
       "        vertical-align: middle;\n",
       "    }\n",
       "\n",
       "    .dataframe tbody tr th {\n",
       "        vertical-align: top;\n",
       "    }\n",
       "\n",
       "    .dataframe thead th {\n",
       "        text-align: right;\n",
       "    }\n",
       "</style>\n",
       "<table border=\"1\" class=\"dataframe\">\n",
       "  <thead>\n",
       "    <tr style=\"text-align: right;\">\n",
       "      <th></th>\n",
       "      <th>subject_id</th>\n",
       "      <th>first_name</th>\n",
       "      <th>last_name</th>\n",
       "      <th>subject_id</th>\n",
       "      <th>first_name</th>\n",
       "      <th>last_name</th>\n",
       "    </tr>\n",
       "  </thead>\n",
       "  <tbody>\n",
       "    <tr>\n",
       "      <th>0</th>\n",
       "      <td>1</td>\n",
       "      <td>Alex</td>\n",
       "      <td>Anderson</td>\n",
       "      <td>4</td>\n",
       "      <td>Billy</td>\n",
       "      <td>Bonder</td>\n",
       "    </tr>\n",
       "    <tr>\n",
       "      <th>1</th>\n",
       "      <td>2</td>\n",
       "      <td>Amy</td>\n",
       "      <td>Ackerman</td>\n",
       "      <td>5</td>\n",
       "      <td>Brian</td>\n",
       "      <td>Black</td>\n",
       "    </tr>\n",
       "    <tr>\n",
       "      <th>2</th>\n",
       "      <td>3</td>\n",
       "      <td>Allen</td>\n",
       "      <td>Ali</td>\n",
       "      <td>6</td>\n",
       "      <td>Bran</td>\n",
       "      <td>Balwner</td>\n",
       "    </tr>\n",
       "    <tr>\n",
       "      <th>3</th>\n",
       "      <td>4</td>\n",
       "      <td>Alice</td>\n",
       "      <td>Aoni</td>\n",
       "      <td>7</td>\n",
       "      <td>Bryce</td>\n",
       "      <td>Brice</td>\n",
       "    </tr>\n",
       "    <tr>\n",
       "      <th>4</th>\n",
       "      <td>5</td>\n",
       "      <td>Ayoung</td>\n",
       "      <td>Atiches</td>\n",
       "      <td>8</td>\n",
       "      <td>Betty</td>\n",
       "      <td>Btisan</td>\n",
       "    </tr>\n",
       "  </tbody>\n",
       "</table>\n",
       "</div>"
      ],
      "text/plain": [
       "  subject_id first_name last_name subject_id first_name last_name\n",
       "0          1       Alex  Anderson          4      Billy    Bonder\n",
       "1          2        Amy  Ackerman          5      Brian     Black\n",
       "2          3      Allen       Ali          6       Bran   Balwner\n",
       "3          4      Alice      Aoni          7      Bryce     Brice\n",
       "4          5     Ayoung   Atiches          8      Betty    Btisan"
      ]
     },
     "execution_count": 44,
     "metadata": {},
     "output_type": "execute_result"
    }
   ],
   "source": [
    "df_new=pandas.concat([df_a, df_b], axis=1) # axis=1 signifie qu'on s'interesse aux colonnes plutôt qu'aux lignes\n",
    "df_new\n"
   ]
  },
  {
   "cell_type": "code",
   "execution_count": 49,
   "id": "d23fdc75",
   "metadata": {},
   "outputs": [
    {
     "name": "stdout",
     "output_type": "stream",
     "text": [
      "   patient  obs  treatment  score\n",
      "0        1    1          0   6252\n",
      "1        1    2          1  24243\n",
      "2        1    3          0   2345\n",
      "3        2    1          1   2342\n",
      "4        2    2          0  23525\n"
     ]
    }
   ],
   "source": [
    "raw_data = {'patient': [1, 1, 1, 2, 2],\n",
    " 'obs': [1, 2, 3, 1, 2],\n",
    " 'treatment': [0, 1, 0, 1, 0],\n",
    " 'score': [6252, 24243, 2345, 2342, 23525]}\n",
    "#df_long = pandas.DataFrame(raw_data, columns = ['patient', 'obs', 'treatment', 'score']) methode 1\n",
    "df_long = pandas.DataFrame(raw_data, columns =raw_data.keys())#methode2\n",
    "print(df_long)\n",
    "#conversion en format wide\n",
    "df_wide=df_long.pivot(index='patient', columns='obs', values='score')\n",
    "#print(df_wide)\n"
   ]
  },
  {
   "cell_type": "code",
   "execution_count": 29,
   "id": "34060430",
   "metadata": {},
   "outputs": [
    {
     "name": "stdout",
     "output_type": "stream",
     "text": [
      "              region  alcohol  tobacco\n",
      "0              North     6.47     4.03\n",
      "1          Yorkshire     6.13     3.76\n",
      "2          Northeast     6.19     3.77\n",
      "3      East Midlands     4.89     3.34\n",
      "4      West Midlands     5.63     3.47\n",
      "5        East Anglia     4.52     2.92\n",
      "6          Southeast     5.89     3.20\n",
      "7          Southwest     4.79     2.71\n",
      "8              Wales     5.27     3.53\n",
      "9           Scotland     6.08     4.51\n",
      "10  Northern Ireland     4.02     4.56\n"
     ]
    }
   ],
   "source": [
    "dico={'region': ['North', 'Yorkshire', 'Northeast', 'East Midlands', \n",
    "'West Midlands','East Anglia','Southeast','Southwest','Wales','Scotland','Northern Ireland'],\n",
    " 'alcohol': [6.47, 6.13, 6.19, 4.89, \n",
    "5.63,4.52,5.89,4.79,5.27,6.08,4.02],\n",
    " 'tobacco': [4.03, 3.76, 3.77, 3.34, \n",
    "3.47,2.92,3.20,2.71,3.53,4.51, 4.56]\n",
    " } \n",
    "df=pandas.DataFrame(dico, columns = ['region', 'alcohol', 'tobacco'])\n",
    "print(df)\n"
   ]
  },
  {
   "cell_type": "code",
   "execution_count": 31,
   "id": "b337072f",
   "metadata": {},
   "outputs": [
    {
     "name": "stdout",
     "output_type": "stream",
     "text": [
      "[['North' 6.47 4.03]\n",
      " ['Yorkshire' 6.13 3.76]\n",
      " ['Northeast' 6.19 3.77]\n",
      " ['East Midlands' 4.89 3.34]\n",
      " ['West Midlands' 5.63 3.47]\n",
      " ['East Anglia' 4.52 2.92]\n",
      " ['Southeast' 5.89 3.2]\n",
      " ['Southwest' 4.79 2.71]\n",
      " ['Wales' 5.27 3.53]\n",
      " ['Scotland' 6.08 4.51]\n",
      " ['Northern Ireland' 4.02 4.56]]\n"
     ]
    }
   ],
   "source": [
    "import numpy\n",
    "vdata1 = numpy.matrix(df)\n",
    "print(vdata1)\n"
   ]
  },
  {
   "cell_type": "code",
   "execution_count": 56,
   "id": "fa70d7a8",
   "metadata": {},
   "outputs": [
    {
     "data": {
      "text/plain": [
       "2"
      ]
     },
     "execution_count": 56,
     "metadata": {},
     "output_type": "execute_result"
    }
   ],
   "source": [
    " vdata1.ndim"
   ]
  },
  {
   "cell_type": "code",
   "execution_count": 67,
   "id": "b04f564b",
   "metadata": {},
   "outputs": [
    {
     "data": {
      "text/plain": [
       "(2, 3, 4)"
      ]
     },
     "execution_count": 67,
     "metadata": {},
     "output_type": "execute_result"
    }
   ],
   "source": [
    "sama_numpy=numpy.array([[[1,2,3,4],[4,5,6,7],['a','b','c','o']],[['x','y','z','w'],['t','r','s','m'],['d','e','f','i']]]\n",
    "                   )\n",
    "sama_numpy.shape\n",
    "\n",
    "\n",
    "                     "
   ]
  },
  {
   "cell_type": "code",
   "execution_count": 70,
   "id": "4b60640d",
   "metadata": {},
   "outputs": [
    {
     "data": {
      "text/plain": [
       "3"
      ]
     },
     "execution_count": 70,
     "metadata": {},
     "output_type": "execute_result"
    }
   ],
   "source": [
    "len(sama_numpy.shape)"
   ]
  },
  {
   "cell_type": "code",
   "execution_count": 71,
   "id": "f93b87fb",
   "metadata": {},
   "outputs": [
    {
     "data": {
      "text/plain": [
       "3"
      ]
     },
     "execution_count": 71,
     "metadata": {},
     "output_type": "execute_result"
    }
   ],
   "source": [
    "sama_numpy.ndim"
   ]
  },
  {
   "cell_type": "code",
   "execution_count": null,
   "id": "cb1b8c5b",
   "metadata": {},
   "outputs": [],
   "source": []
  }
 ],
 "metadata": {
  "kernelspec": {
   "display_name": "Python 3",
   "language": "python",
   "name": "python3"
  },
  "language_info": {
   "codemirror_mode": {
    "name": "ipython",
    "version": 3
   },
   "file_extension": ".py",
   "mimetype": "text/x-python",
   "name": "python",
   "nbconvert_exporter": "python",
   "pygments_lexer": "ipython3",
   "version": "3.8.8"
  }
 },
 "nbformat": 4,
 "nbformat_minor": 5
}
