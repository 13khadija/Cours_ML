{
  "nbformat": 4,
  "nbformat_minor": 0,
  "metadata": {
    "colab": {
      "name": "Machine_Learning_TP1.ipynb",
      "provenance": [],
      "collapsed_sections": []
    },
    "kernelspec": {
      "name": "python3",
      "display_name": "Python 3"
    },
    "language_info": {
      "name": "python"
    }
  },
  "cells": [
    {
      "cell_type": "markdown",
      "source": [
        "## Institut des Algorithmes du Sénégal\n",
        "\n",
        "## TP1\n",
        "\n",
        "Dans ce premier TP, nous allons mettre en application les connaissaces acquises lors de la première session.\n",
        "\n",
        "Concrétement, vous serez appeller à executer les taches suivantes :\n",
        "\n",
        "## 1. Importer les libraries nécéssaires\n",
        "\n",
        "## 2. Charger les données\n",
        "\n",
        "## 3. Afficher les 10 premières lignes des données\n",
        "\n",
        "## 5. Afficher les colonnes du dataframe\n",
        "\n",
        "## 6. Afficher toutes les colonnes ayant des valeurs manquantes\n",
        "\n",
        "## 7. Dans ce cas d'étude, la variables cible est \"survived\". Visualisez la matrice de corrélation permettant d'étudier la relation entre cette variable cible et toutes les autres variuables\n",
        "\n"
      ],
      "metadata": {
        "id": "PyeeIpwOiH48"
      }
    },
    {
      "cell_type": "code",
      "execution_count": null,
      "metadata": {
        "id": "nPfrrbT_iF_H"
      },
      "outputs": [],
      "source": [
        ""
      ]
    },
    {
      "cell_type": "code",
      "source": [
        ""
      ],
      "metadata": {
        "id": "wNhJp_0Vs1j0"
      },
      "execution_count": null,
      "outputs": []
    },
    {
      "cell_type": "code",
      "source": [
        ""
      ],
      "metadata": {
        "id": "n8JIlO_Qs2bO",
        "colab": {
          "base_uri": "https://localhost:8080/"
        },
        "outputId": "2db95c12-83e6-4f41-f194-06dbb7c31383"
      },
      "execution_count": null,
      "outputs": [
        {
          "output_type": "stream",
          "name": "stdout",
          "text": [
            "Mounted at /content/drive\n"
          ]
        }
      ]
    },
    {
      "cell_type": "code",
      "source": [
        ""
      ],
      "metadata": {
        "id": "w1deBkYsqN24"
      },
      "execution_count": null,
      "outputs": []
    },
    {
      "cell_type": "code",
      "source": [
        ""
      ],
      "metadata": {
        "id": "SF1idjA7qYIg"
      },
      "execution_count": null,
      "outputs": []
    },
    {
      "cell_type": "code",
      "source": [
        ""
      ],
      "metadata": {
        "id": "yp3udqbzqj-V"
      },
      "execution_count": null,
      "outputs": []
    }
  ]
}