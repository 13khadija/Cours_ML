{
 "cells": [
  {
   "cell_type": "code",
   "execution_count": 1,
   "id": "75b8c997",
   "metadata": {},
   "outputs": [],
   "source": [
    "x=['lundi','mardi','mercredi',1800,20.357,'jeudi','vendredi']"
   ]
  },
  {
   "cell_type": "code",
   "execution_count": 2,
   "id": "e503b3f6",
   "metadata": {},
   "outputs": [
    {
     "data": {
      "text/plain": [
       "['lundi', 'mardi', 'mercredi', 1800, 20.357, 'jeudi', 'vendredi']"
      ]
     },
     "execution_count": 2,
     "metadata": {},
     "output_type": "execute_result"
    }
   ],
   "source": [
    "x1=list(x)\n",
    "x1"
   ]
  },
  {
   "cell_type": "code",
   "execution_count": null,
   "id": "39e72fd3",
   "metadata": {},
   "outputs": [],
   "source": [
    "x=list(['lundi','mardi','mercredi',1800,20.357,'jeudi','vendredi']) # défintion inéfficiente car réalisée déjà sur une liste\n",
    "y=list(range(10)) # Liste formée par une séquence de nombres entier de 0 à 9"
   ]
  },
  {
   "cell_type": "code",
   "execution_count": 4,
   "id": "0eaa7420",
   "metadata": {},
   "outputs": [],
   "source": [
    "x=[[1,2,3],[2,3,4],[3,4,5]] # liste à deux dimensions (liste de listes)\n",
    "y= [[[1,2],[2,3]],[[4,5],[5,6]]] # liste à trois dimensions (liste de listes de listes) "
   ]
  },
  {
   "cell_type": "code",
   "execution_count": 7,
   "id": "f394fbc9",
   "metadata": {},
   "outputs": [
    {
     "name": "stdout",
     "output_type": "stream",
     "text": [
      "['lundi', 'mardi', 'mercredi', 1800, 20.357, 'jeudi', 'vendredi']\n"
     ]
    },
    {
     "data": {
      "text/plain": [
       "'vendredi'"
      ]
     },
     "execution_count": 7,
     "metadata": {},
     "output_type": "execute_result"
    }
   ],
   "source": [
    "x=list(['lundi','mardi','mercredi',1800,20.357,'jeudi','vendredi']) # Définition d’une liste\n",
    "print(x) # affiche tous les éléments de la liste x\n",
    "x[0] # renvoie le premier élément de x :lundi (Nb :l’indiçage commence toujours à 0)\n",
    "x[3] # renvoie l’élément d’indice 3( quatrième élément de x) :1800\n",
    "x[1:3] # Renvoie tous éléments compris entre l’indice 1 et l’indice 3 (Nb : l’élément d’indice 3 est exclu)\n",
    "x[1:6 :2] # Renvoie tous éléments compris entre l’indice 1 et l’indice 6 avec un saut de 2 éléments à chaque fois ['mardi', 1800, 'jeudi'] (l’élément d’indice 6 est exclu).\n",
    "x[2 :] # renvoie tous éléments à partir de l’élément d’indice 2 ( inclu).\n",
    "x[:3] # renvoie tous éléments situés avant l’élément d’indice 3 (exclu)\n",
    "x[-1] # Indiçage négatif, renvoie le dernier élément de la liste (équivaut ici à x[6])"
   ]
  },
  {
   "cell_type": "code",
   "execution_count": 12,
   "id": "50d95809",
   "metadata": {},
   "outputs": [
    {
     "data": {
      "text/plain": [
       "['mercredi', 1800, 20.357, 'jeudi', 'vendredi']"
      ]
     },
     "execution_count": 12,
     "metadata": {},
     "output_type": "execute_result"
    }
   ],
   "source": [
    "x=list(['lundi','mardi','mercredi',1800,20.357,'jeudi','vendredi']) # Définition d’une liste\n",
    "\n",
    "x[2 :]"
   ]
  },
  {
   "cell_type": "code",
   "execution_count": null,
   "id": "35c2ba22",
   "metadata": {},
   "outputs": [],
   "source": [
    "x[-2] # Indiçage négatif, renvoie l’avant-dernier élément de la liste(équivaut ici à x[5])\n",
    "x[: :2] # Parcourt tous éléments compris entre l’indice 0 et le dernier indice en renvoyant tous les éléments avec un saut de 2 éléments à chaque fois ['lundi', 'mercredi', 20.357, 'vendredi'].\n",
    "x[: :-1] # renvoie une liste contenant tous éléments de x en les réorganisant du dernier élement au premier élément. Il s’agit de faire reverse sur x. renvoie ['vendredi', 'jeudi', 20.357, 1800, 'mercredi', 'mardi', 'lundi']. On obient le même résultats en faisant x.reverse()\n",
    "x_rev=x.reverse()"
   ]
  },
  {
   "cell_type": "code",
   "execution_count": 13,
   "id": "7d9f78c6",
   "metadata": {},
   "outputs": [
    {
     "data": {
      "text/plain": [
       "[3, 4]"
      ]
     },
     "execution_count": 13,
     "metadata": {},
     "output_type": "execute_result"
    }
   ],
   "source": [
    "x=[[1,2,3],[2,3,4],[3,4,5]]\n",
    "x[0] # renvoie le premier élément-liste [1,2,3]\n",
    "x[0][0] # renvoie le premier élément du premier élément-liste [1,2,3] c'est-à-dire 1\n",
    "x[2] # renvoie [ 3,4,5]\n",
    "x[2][1] # renvoie 2\n",
    "x[1:] # renvoie [[2, 3, 4], [3, 4, 5]]\n",
    "x[1:][0] # renvoie [2, 3, 4]\n",
    "x[-1] # renvoie 3, 4, 5]\n",
    "x[1][:2] # renvoie [2, 3]\n",
    "x[1][1:] # renvoie [3, 4]\n",
    " "
   ]
  },
  {
   "cell_type": "code",
   "execution_count": 14,
   "id": "e7c0c2d8",
   "metadata": {},
   "outputs": [
    {
     "name": "stdout",
     "output_type": "stream",
     "text": [
      "7\n"
     ]
    }
   ],
   "source": [
    "x= ['lundi', 'mardi', 'mercredi', 1800, 20.357, 'jeudi', 'vendredi']#Pour connaitre la longueur de x (nombre d’éléments de x), on fait : \n",
    "print(len(x)) # cela renvoie 7"
   ]
  },
  {
   "cell_type": "code",
   "execution_count": null,
   "id": "fa29d212",
   "metadata": {},
   "outputs": [],
   "source": [
    "z= x + y\n",
    "print(z) # renvoie ['girafe', 'tigre', 'singe', 'souris']\n"
   ]
  },
  {
   "cell_type": "code",
   "execution_count": null,
   "id": "69e60e96",
   "metadata": {},
   "outputs": [],
   "source": [
    "x=['girafe', 24, 18 , 'tigre', 2400, 150 ]\n",
    "y=x*3\n",
    "print(y)"
   ]
  },
  {
   "cell_type": "code",
   "execution_count": 17,
   "id": "019278ff",
   "metadata": {},
   "outputs": [
    {
     "name": "stdout",
     "output_type": "stream",
     "text": [
      "['lundi', 'mardi', 'mercredi', 1900, 20.357, 'jeudi', 'vendredi']\n"
     ]
    }
   ],
   "source": [
    "x= ['lundi', 'mardi', 'mercredi', 1800, 20.357, 'jeudi', 'vendredi']\n",
    "#On souhaite ajouter 100 à l’élément 1800. Pour cela on fait : \n",
    "x[3]=x[3]+100\n",
    "print(x) "
   ]
  },
  {
   "cell_type": "code",
   "execution_count": 20,
   "id": "1bb2688a",
   "metadata": {},
   "outputs": [],
   "source": [
    "x.append('samedi')\n",
    "x.append('dimanche')\n",
    "x=x+ ['samedi'] \n",
    "x=x+ ['dimanche']"
   ]
  },
  {
   "cell_type": "raw",
   "id": "0169e411",
   "metadata": {},
   "source": [
    "x= ['lundi', 'mardi', 'mercredi’, ‘jeudi', 'vendredi']\n",
    "x.extend(['samedi', 'dimanche']) "
   ]
  },
  {
   "cell_type": "code",
   "execution_count": 23,
   "id": "70c177b9",
   "metadata": {},
   "outputs": [],
   "source": [
    "x.insert(2,15)"
   ]
  },
  {
   "cell_type": "code",
   "execution_count": 35,
   "id": "63fe3d5a",
   "metadata": {},
   "outputs": [],
   "source": [
    "x= ['lundi', 'mardi', 'mercredi', 1800, 20.357, 'jeudi', 'vendredi']\n",
    "x.remove('mercredi') # supprime 'mercredi' de la liste initiale x\n",
    "del x[2] # supprime l’élément d’indice 2 qui correspond ici à'mercredi'\n"
   ]
  },
  {
   "cell_type": "code",
   "execution_count": 36,
   "id": "d7f08b58",
   "metadata": {},
   "outputs": [
    {
     "data": {
      "text/plain": [
       "['lundi', 'mardi', 20.357, 'jeudi', 'vendredi']"
      ]
     },
     "execution_count": 36,
     "metadata": {},
     "output_type": "execute_result"
    }
   ],
   "source": [
    "x"
   ]
  },
  {
   "cell_type": "code",
   "execution_count": null,
   "id": "811bbff4",
   "metadata": {},
   "outputs": [],
   "source": [
    "x= ['lundi', 'mardi', 'lundi', 1800, 20.357, 'lundi', 'Mardi', 1800] \n",
    "x.count('lundi') # Renvoie 3 ( le nombre d’occurrence de lundi)\n",
    "x.count(20.357) # Renvoie 1 \n",
    "x.count(1800) # Renvoie 2 \n",
    "x.count('mardi') # Renvoie 1 (Attention : mardi et Mardi ne sont pas considérés comme les même valeurs) "
   ]
  },
  {
   "cell_type": "code",
   "execution_count": null,
   "id": "c52b6965",
   "metadata": {},
   "outputs": [],
   "source": [
    "x=[ 12, 5 , 4 , 20 ,3, 8, 9, 51 ]\n",
    "#Pour trier x par ordre croissant, on fait : \n",
    "x.sort() # renvoie [3, 4, 5, 8, 9, 12, 20, 51]\n",
    "#Et pour trier par ordre décroissant, on fait : \n",
    "x.sort(reverse=True) # Renvoie [51, 20, 12, 9, 8, 5, 4, 3]\n"
   ]
  },
  {
   "cell_type": "code",
   "execution_count": 38,
   "id": "6cb4ded9",
   "metadata": {},
   "outputs": [],
   "source": [
    "X = [\"a\", \"b\", \"c\", \"d\", \"e\", \"f\", \"g\", \"h\", \"i\"]\n",
    "Y = [ 0, 1, 1, 0, 1, 2, 2, 0, 1]\n",
    "#On souhaite trier la liste X selon les valeurs de la liste Y (par ordre croissant). On suit les étapes suivantes : \n",
    "X_sorted=[x for (y,x) in sorted(zip(Y,X), key=lambda pair: pair[0], reverse=False)]\n",
    "\n"
   ]
  },
  {
   "cell_type": "code",
   "execution_count": null,
   "id": "7b216579",
   "metadata": {},
   "outputs": [],
   "source": []
  }
 ],
 "metadata": {
  "kernelspec": {
   "display_name": "Python 3",
   "language": "python",
   "name": "python3"
  },
  "language_info": {
   "codemirror_mode": {
    "name": "ipython",
    "version": 3
   },
   "file_extension": ".py",
   "mimetype": "text/x-python",
   "name": "python",
   "nbconvert_exporter": "python",
   "pygments_lexer": "ipython3",
   "version": "3.8.8"
  }
 },
 "nbformat": 4,
 "nbformat_minor": 5
}
